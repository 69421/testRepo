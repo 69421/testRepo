{
  "nbformat": 4,
  "nbformat_minor": 0,
  "metadata": {
    "colab": {
      "provenance": [],
      "authorship_tag": "ABX9TyNNv2wARLgYj4oZF+O56hZC",
      "include_colab_link": true
    },
    "kernelspec": {
      "name": "python3",
      "display_name": "Python 3"
    },
    "language_info": {
      "name": "python"
    }
  },
  "cells": [
    {
      "cell_type": "markdown",
      "metadata": {
        "id": "view-in-github",
        "colab_type": "text"
      },
      "source": [
        "<a href=\"https://colab.research.google.com/github/69421/testRepo/blob/main/DataScienceEcosystem.ipynb\" target=\"_parent\"><img src=\"https://colab.research.google.com/assets/colab-badge.svg\" alt=\"Open In Colab\"/></a>"
      ]
    },
    {
      "cell_type": "markdown",
      "source": [
        "#Data Science Tools and Ecosystem"
      ],
      "metadata": {
        "id": "Onh9G5hF6SXT"
      }
    },
    {
      "cell_type": "markdown",
      "source": [
        "####In this notebook, Data Science Tools and Ecosystem are summarized"
      ],
      "metadata": {
        "id": "MrCMwXtJ6xEL"
      }
    },
    {
      "cell_type": "markdown",
      "source": [
        "#####Some of the popular languages that Data Scientists use are : python, SQL, R..."
      ],
      "metadata": {
        "id": "1ozCw3sW61_T"
      }
    },
    {
      "cell_type": "markdown",
      "source": [
        "#####Some of the commonly used libraries used by Data Scientists include: pandas, ggplot2, numpy"
      ],
      "metadata": {
        "id": "PP6aML497eSZ"
      }
    },
    {
      "cell_type": "markdown",
      "source": [
        "| Data Science Tools |\n",
        "|--------------------|\n",
        "| Jupyter Notebook   |\n",
        "| RStudio            |\n",
        "| VS Code (with Python/R extensions) |"
      ],
      "metadata": {
        "id": "kvGQsL7K94cT"
      }
    },
    {
      "cell_type": "markdown",
      "source": [
        "###Below are a few examples of evaluating arithmetic expressions in Python"
      ],
      "metadata": {
        "id": "bHhGZlrw-Xnh"
      }
    },
    {
      "cell_type": "code",
      "source": [
        "# This a simple arithmetic expression to mutiply then add integers\n",
        "(3*4)+5"
      ],
      "metadata": {
        "colab": {
          "base_uri": "https://localhost:8080/"
        },
        "id": "OhgCovOL-rjq",
        "outputId": "b1902ac7-fdb8-46f8-e7f8-64c7effcf1c5"
      },
      "execution_count": 6,
      "outputs": [
        {
          "output_type": "execute_result",
          "data": {
            "text/plain": [
              "17"
            ]
          },
          "metadata": {},
          "execution_count": 6
        }
      ]
    },
    {
      "cell_type": "code",
      "source": [
        "# This will convert 200 minutes to hours by dividing by 60 (since 1 hour = 60 minutes)\n",
        "200 / 60"
      ],
      "metadata": {
        "colab": {
          "base_uri": "https://localhost:8080/"
        },
        "id": "hsJ6-jur_qQt",
        "outputId": "8fea5477-b8f7-44ea-beca-a3af3e1c1584"
      },
      "execution_count": 5,
      "outputs": [
        {
          "output_type": "execute_result",
          "data": {
            "text/plain": [
              "3.3333333333333335"
            ]
          },
          "metadata": {},
          "execution_count": 5
        }
      ]
    },
    {
      "cell_type": "markdown",
      "source": [
        "**Objectives:**\n",
        "\n",
        "- List popular languages for Data Science  \n",
        "- Identify commonly used libraries by Data Scientists  \n",
        "- Understand open-source tools for Data Science environments  \n",
        "- Perform basic operations in Python for unit conversions  \n",
        "- Create formatted tables and lists using Markdown  "
      ],
      "metadata": {
        "id": "ND-wdgZYA9Hs"
      }
    },
    {
      "cell_type": "markdown",
      "source": [
        "## Author  \n",
        "Cheikh Abdou Mbacke"
      ],
      "metadata": {
        "id": "ED0-f7U2A_n9"
      }
    }
  ]
}